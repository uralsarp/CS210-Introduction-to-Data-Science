{
  "nbformat": 4,
  "nbformat_minor": 0,
  "metadata": {
    "colab": {
      "name": "Sipahi_UralSarp_hw1",
      "provenance": [],
      "collapsed_sections": []
    },
    "kernelspec": {
      "name": "python3",
      "display_name": "Python 3"
    }
  },
  "cells": [
    {
      "cell_type": "markdown",
      "metadata": {
        "id": "JD9gUM7WW8iT"
      },
      "source": [
        "# Homework 1 - Practicing Python\n",
        "\n",
        "\n",
        "*In the first homework, you are going to work on a set of Python exercises.*\n",
        "\n",
        "**Submission Instructions**\n",
        "\n",
        "---\n",
        "It is important that you follow the submission instructions. \n",
        "1. Copy this assignment notebook to your Drive. <font color = 'red'> `File` --> `Save a copy in Drive`</font>. Rename it as <font color = 'green'>`Lastname_Firstname_hw1`</font>.\n",
        "\n",
        "2. Write your solutions in the cells  marked <font color = 'green'>`# your code`</font>.\n",
        "\n",
        "3. Do not delete your outputs. They are essential for the grading. Make sure that cells containing your solutions are executed, and the results are displayed on the notebook.\n",
        "\n",
        "4. When you're done please submit your solutions as an <font color=\"red\">`.ipynb`</font> file. To do so:\n",
        "\n",
        "\n",
        "  a. Click on <font color=\"red\">`File`</font>  at the top left on the Colab screen, then click on <font color = 'red'>`Download .ipynb`</font>.\n",
        "\n",
        "  b. Then submit the downloaded <font color=\"red\">`.ipynb`</font> version of your work on SUCourse.\n",
        "\n",
        "\n",
        "For any question, you may send an email to the TAs and LAs.\n",
        "\n",
        "---\n",
        "\n",
        "**Important Note:**   \n",
        "In this homework, you do not need to use any libraries than the built-in ones. Hence, you are not allowed to use any libraries, other than the [`pprint`](https://docs.python.org/3/library/pprint.html) library to produce better looking outputs. If you have doubt on what to use what not to use please ask your question in the SuCourse Homework Q&A forum."
      ]
    },
    {
      "cell_type": "markdown",
      "metadata": {
        "id": "rYfw-eaiBOBJ"
      },
      "source": [
        "## 15 points - Q1: Find the Office Hour, Given the TA\n",
        "\n",
        "In the cell below, you have three lists containing the TA names and their day of office hour in the same order.\n",
        "\n",
        "Here, your goal is to write a fuction named `TA_day` that will return the day and hour of a particular TA. E.g.,\n",
        "\n",
        "```py\n",
        ">>> TA_day(TA_name='Ozgur Can Seckin')\n",
        "Tuesday, 17:40-18:30\n",
        "```\n",
        "\n",
        "After defining your function as such, please find the day and hour for **Mutlu Soruklu**"
      ]
    },
    {
      "cell_type": "code",
      "metadata": {
        "id": "_RCO6nIyEpv1"
      },
      "source": [
        "TA_names = ['Ege Alpay', 'Hasan Alp Boz', 'Mutlu Soruklu', 'Ozgur Can Seckin']\n",
        "office_days = ['Friday', 'Tuesday', 'Monday', 'Tuesday']\n",
        "office_hours = ['18:40 - 19:30', '9:40-10:30', '17:40 - 18:30', '17:40 - 18:30']"
      ],
      "execution_count": null,
      "outputs": []
    },
    {
      "cell_type": "code",
      "metadata": {
        "id": "VsigiNj3FzgF",
        "colab": {
          "base_uri": "https://localhost:8080/"
        },
        "outputId": "7693b7cc-2b41-4d2c-a483-43d4da40db19"
      },
      "source": [
        "# your code\n",
        "def TA_day(TA_name):\n",
        "\n",
        "  for i in range(len(TA_names)):\n",
        "    if (TA_name==TA_names[i]):\n",
        "      print(office_days[i],\",\",office_hours[i])\n",
        "\n",
        "TA_day(TA_name='Ozgur Can Seckin')\n",
        "TA_day(TA_name='Mutlu Soruklu')"
      ],
      "execution_count": null,
      "outputs": [
        {
          "output_type": "stream",
          "name": "stdout",
          "text": [
            "Tuesday , 17:40 - 18:30\n",
            "Monday , 17:40 - 18:30\n"
          ]
        }
      ]
    },
    {
      "cell_type": "markdown",
      "metadata": {
        "id": "DwskSV1dAeoR"
      },
      "source": [
        "## 30 points - Q2: Inflation Rates\n",
        "\n",
        "Inflation rates measured by consumer price index for 38 distinct countries and OECD average were taken from:\n",
        "https://data.oecd.org/price/inflation-cpi.htm\n",
        "\n",
        "Each line stores the country name, year and related inflation rate, seperated by a **semicolon**.\n",
        "\n",
        "In total, we have 195 lines where the inflation rates are given for years between 2016 and 2020.\n",
        "\n",
        "\n",
        "<img src=\"https://i.ibb.co/bBzypPS/Q2-OECD.png\"></img>\n",
        "\n",
        "*Do not forget to add the shared file and then mount to your drive. Otherwise, you won't be able to read the file. If you do not know how, please go back to Week 1 videos.*\n",
        "\n",
        "**Attention: You may want to transform the string to numbers by using float() function**"
      ]
    },
    {
      "cell_type": "markdown",
      "metadata": {
        "id": "EJdIEenmj6W_"
      },
      "source": [
        "### 15 points - **Part A**\n",
        "In this part, you should - by using the inflation_data.csv file under assignment folder:\n",
        "1. Find the **mean inflation rates** for Turkey and Germany (denoted as TUR and DEU in the data, respectively) between years 2016 and 2020 and print the results.\n",
        "2. Calculate the **difference between means** and print the result.\n",
        "\n",
        "![](https://i.ibb.co/L0JTk8V/Q2-OECD.png)"
      ]
    },
    {
      "cell_type": "code",
      "metadata": {
        "id": "tbaryKClTz5Z",
        "colab": {
          "base_uri": "https://localhost:8080/"
        },
        "outputId": "0aaf914e-e08c-4254-d42e-a5b54c2b1fbb"
      },
      "source": [
        "from google.colab import drive\n",
        "drive.mount(\"./drive/\", force_remount=True)"
      ],
      "execution_count": null,
      "outputs": [
        {
          "output_type": "stream",
          "name": "stdout",
          "text": [
            "Mounted at ./drive/\n"
          ]
        }
      ]
    },
    {
      "cell_type": "code",
      "metadata": {
        "id": "NnRDeA3_SPi0",
        "colab": {
          "base_uri": "https://localhost:8080/"
        },
        "outputId": "13350af0-e1e7-4960-8d0b-386da624538d"
      },
      "source": [
        "# your code\n",
        "from os.path import join\n",
        "\n",
        "path_prefix = \"./drive/My Drive\"\n",
        "fname = \"inflation_data.csv\"\n",
        "\n",
        "join(path_prefix, fname)\n",
        "\n",
        "with open(join(path_prefix, fname), \"r\") as f:\n",
        "  turkey=[]\n",
        "  germany=[]\n",
        "  for line in f:\n",
        "    x=line.find(\";\")\n",
        "    if (line[0:x]==\"TUR\"):\n",
        "      y=line.rfind(\";\")\n",
        "      turkey.append(line[y+1:])\n",
        "\n",
        "    elif (line[0:x]==\"DEU\"):\n",
        "      y=line.rfind(\";\")  \n",
        "      germany.append(line[y+1:])\n",
        "\n",
        "turkeycounter=0\n",
        "turkeylen=len(turkey)\n",
        "for i in range(len(turkey)):\n",
        "  turkey[i]=turkey[i].strip(\"\\n\")\n",
        "  turkey[i]=turkey[i].replace(\",\",\".\")\n",
        "  turkeynum=float(turkey[i])\n",
        "  turkeycounter=turkeycounter+turkeynum\n",
        "\n",
        "germanycounter=0\n",
        "germanylen=len(germany)\n",
        "for i in range(len(germany)):\n",
        "  germany[i]=germany[i].strip(\"\\n\")\n",
        "  germany[i]=germany[i].replace(\",\",\".\")\n",
        "  germanynum=float(germany[i])\n",
        "  germanycounter=germanycounter+germanynum\n",
        "\n",
        "\n",
        "turkeymean=turkeycounter/turkeylen\n",
        "germanymean=germanycounter/germanylen\n",
        "\n",
        "print(\"Turkey's mean is\",turkeymean,\" Germany's mean is\", germanymean)\n",
        "\n",
        "difference=turkeymean-germanymean\n",
        "print(\"The diffrence between both countries means are\", difference)"
      ],
      "execution_count": null,
      "outputs": [
        {
          "output_type": "stream",
          "name": "stdout",
          "text": [
            "Turkey's mean is 12.5415368  Germany's mean is 1.1371541\n",
            "The diffrence between both countries means are 11.4043827\n"
          ]
        }
      ]
    },
    {
      "cell_type": "markdown",
      "metadata": {
        "id": "pIBUWMoXSSwr"
      },
      "source": [
        "### 15 points - **Part B**\n",
        "\n",
        "Find the country with the minimum mean inflation rate (note that it might be negative!)\n",
        "\n",
        "![](https://i.ibb.co/hBsTWvs/Q2-OECD-2.png)"
      ]
    },
    {
      "cell_type": "code",
      "metadata": {
        "id": "laBFy2HkSXpC",
        "colab": {
          "base_uri": "https://localhost:8080/"
        },
        "outputId": "0b298879-8e43-47c3-cef1-ca3325bd384e"
      },
      "source": [
        "# your code\n",
        "from os.path import join\n",
        "\n",
        "path_prefix = \"./drive/My Drive\"\n",
        "fname = \"inflation_data.csv\"\n",
        "\n",
        "join(path_prefix, fname)\n",
        "\n",
        "with open(join(path_prefix, fname), \"r\") as f:\n",
        "  min_infrate=[]\n",
        "  for line in f:\n",
        "    x=line.rfind(\";\")\n",
        "    min_infrate.append(line[x+1:])\n",
        "\n",
        "  for i in range(len(min_infrate)):\n",
        "    min_infrate[i]=min_infrate[i].strip(\"\\n\")\n",
        "    min_infrate[i]=min_infrate[i].replace(\",\",\".\")\n",
        "    min_infrate[i]=float(min_infrate[i])\n",
        "  \n",
        "  minnum=min(min_infrate)\n",
        "  idx=min_infrate.index(minnum)\n",
        "\n",
        "  linecount=0\n",
        "  with open(join(path_prefix, fname), \"r\") as f:\n",
        "    for line in f:\n",
        "      linecount+=1\n",
        "      if (linecount==idx):\n",
        "        x=line.find(\";\")\n",
        "        print(line[0:x], minnum)\n"
      ],
      "execution_count": null,
      "outputs": [
        {
          "output_type": "stream",
          "name": "stdout",
          "text": [
            "GRC -1.247972\n"
          ]
        }
      ]
    },
    {
      "cell_type": "markdown",
      "metadata": {
        "id": "srIzF7eJYUAW"
      },
      "source": [
        "## 25 points - Q3: Transposing a List of Lists\n",
        "\n",
        "List/array reshaping is one of the most fundamental operations in data manipulation. In the figure below, you see a 4x3 dimensional list of lists (a list that contains lists) named `arr` that has integers from 1 to 12. We can take the transpose of this 4x3 list and transform it into a 3x4 list. \n",
        "\n",
        "![](https://i.ibb.co/K7CXTZX/Q3-transposed.png)\n",
        "\n",
        "By referencing the figure above, write a function named `transpose` which will take the transpose of the desired matrix. At the end, it should return the resulting matrix.\n",
        "\n",
        "```py\n",
        ">>> arr = [[1, 2, 3, 4], [5, 6, 7, 8], [9, 10, 11, 12]]\n",
        ">>> transpose(arr)\n",
        "[[1, 5, 9], [2, 6, 10], [3, 7, 11], [4, 8, 12]]\n",
        "```\n",
        "\n",
        "If the given list of lists does not represent a proper matrix (e.g., [[1,2], [3,4,5]] then, it should return \"Not a proper matrix\"\n",
        "\n",
        "```py\n",
        ">>> arr = [[1, 2, 3], [5, 6]]\n",
        ">>> transpose(arr)\n",
        "\"Not a proper matrix\"\n",
        "```"
      ]
    },
    {
      "cell_type": "code",
      "metadata": {
        "id": "iZgKbmvbZM61",
        "colab": {
          "base_uri": "https://localhost:8080/"
        },
        "outputId": "a1b647f9-d7c5-44d3-c0f6-0a3a4cced10f"
      },
      "source": [
        "arr = [[1, 2, 3, 4], [5, 6, 7, 8], [9, 10, 11, 12]]\n",
        "# your code\n",
        "def transpose(arr):\n",
        "\n",
        "  isalist=True\n",
        "  for i in range(len(arr)):\n",
        "    if (i!=len(arr)-1):\n",
        "      if (len(arr[i+1])!=len(arr[i])):\n",
        "        isalist=False      \n",
        "  if (isalist==False):\n",
        "    print(\"Not a proper matrix\")\n",
        "\n",
        "  else:\n",
        "    emp = [[] for i in range(len(arr[0]))]\n",
        "    for i in range(len(arr[0])):\n",
        "      for j in range(len(arr)):\n",
        "        emp[i].append(arr[j][i])    \n",
        "    print(emp)\n",
        "\n",
        "transpose(arr)\n",
        "arr = [[1, 2, 3], [5, 6]]\n",
        "transpose(arr)"
      ],
      "execution_count": null,
      "outputs": [
        {
          "output_type": "stream",
          "name": "stdout",
          "text": [
            "[[1, 5, 9], [2, 6, 10], [3, 7, 11], [4, 8, 12]]\n",
            "Not a proper matrix\n"
          ]
        }
      ]
    },
    {
      "cell_type": "markdown",
      "metadata": {
        "id": "_0FzjI4Li18J"
      },
      "source": [
        "## 30 points - Q4: Most Frequent Bigram in a File\n",
        "\n",
        "`A pair of consecutive written words is called a bigram. For instance, if we were to find the bigrams in the sentence \"The quick brown fox jumps over the lazy dog.\", we would get [\"The quick\", \"quick brown\", \"brown fox\", ... \"the lazy\", \"lazy dog.\"]`\n",
        "\n",
        "In the assignment folder, you have a file named `best_song.txt` which stores the lyrics to the best song ever written by anyone:\n",
        "https://i.ibb.co/cb4B8sy/best-song.jpg\n",
        "\n",
        "Write a function named `most_used_bigram` which will take a file name as its single parameter and then reads and returns the **most frequently used bigram** and **how many times it has occurred** in the text.\n",
        "\n",
        "```py\n",
        ">>> most_used, times_used = most_used_bigram(\"best_song.txt\")\n",
        "```\n",
        "\n",
        "*Do not forget to add the shared file and then mount to your drive. Otherwise, you won't be able to read the file.*"
      ]
    },
    {
      "cell_type": "code",
      "metadata": {
        "colab": {
          "base_uri": "https://localhost:8080/"
        },
        "id": "qeXIms4lVU-X",
        "outputId": "9e9e3911-bcba-459a-95a4-763d79aca207"
      },
      "source": [
        "from google.colab import drive\n",
        "drive.mount(\"./drive\", force_remount=True)"
      ],
      "execution_count": null,
      "outputs": [
        {
          "output_type": "stream",
          "name": "stdout",
          "text": [
            "Mounted at ./drive\n"
          ]
        }
      ]
    },
    {
      "cell_type": "code",
      "metadata": {
        "id": "lVZH2ntzH8HL",
        "colab": {
          "base_uri": "https://localhost:8080/",
          "height": 35
        },
        "outputId": "8d41d691-7da5-4109-f166-f2d2b9108dd0"
      },
      "source": [
        "from os.path import join\n",
        "\n",
        "path_prefix = \"./drive/My Drive\"\n",
        "fname = \"best_song.txt\"\n",
        "\n",
        "join(path_prefix, fname)"
      ],
      "execution_count": null,
      "outputs": [
        {
          "output_type": "execute_result",
          "data": {
            "application/vnd.google.colaboratory.intrinsic+json": {
              "type": "string"
            },
            "text/plain": [
              "'./drive/My Drive/best_song.txt'"
            ]
          },
          "metadata": {},
          "execution_count": 2
        }
      ]
    },
    {
      "cell_type": "code",
      "metadata": {
        "id": "DEQOU3viZAfj",
        "colab": {
          "base_uri": "https://localhost:8080/"
        },
        "outputId": "5ee3d59f-ad0a-4f3d-fa2a-715637803119"
      },
      "source": [
        "# Your code\n",
        "def most_used_bigram(fname):\n",
        "  with open(join(path_prefix, fname), \"r\") as f:\n",
        "    allwords=[]\n",
        "    for line in f.readlines():\n",
        "      words=line.split() \n",
        "      biwords = [(words[i], words[i+1]) for i in range(len(words)-1)]\n",
        "      allwords.append(biwords)\n",
        "\n",
        "  samewords=[]\n",
        "  for sublist in allwords:\n",
        "    for item in sublist:\n",
        "        samewords.append(item)\n",
        "  \n",
        "  counter=0\n",
        "  idx=0\n",
        "  for i in range(len(samewords)):\n",
        "    count=samewords.count(samewords[i])\n",
        "    if (counter < count):\n",
        "      counter=count\n",
        "      idx=i\n",
        "  return counter,samewords[idx] \n",
        "\n",
        "\n",
        "times_used,most_used=most_used_bigram(\"best_song.txt\")\n",
        "\n",
        "print(times_used,most_used)"
      ],
      "execution_count": null,
      "outputs": [
        {
          "output_type": "stream",
          "name": "stdout",
          "text": [
            "36 ('Never', 'gonna')\n"
          ]
        }
      ]
    }
  ]
}