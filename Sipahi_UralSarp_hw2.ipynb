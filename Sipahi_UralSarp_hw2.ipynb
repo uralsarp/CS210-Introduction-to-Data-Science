{
  "nbformat": 4,
  "nbformat_minor": 0,
  "metadata": {
    "colab": {
      "name": "Sipahi_UralSarp_hw2",
      "provenance": [],
      "collapsed_sections": []
    },
    "kernelspec": {
      "name": "python3",
      "display_name": "Python 3"
    }
  },
  "cells": [
    {
      "cell_type": "markdown",
      "metadata": {
        "id": "JD9gUM7WW8iT"
      },
      "source": [
        "# Homework 2 - Data Wrangling\n",
        "\n",
        "\n",
        "*In this homework, you are going to work on a real-world dataset and perform some data transformations. We suggest you start the homework early.*\n",
        "\n",
        "**Submission Instructions**\n",
        "\n",
        "---\n",
        "It is important that you follow the submission instructions. \n",
        "1. Copy this assignment notebook to your Drive. <font color = 'red'> `File` --> `Save a copy in Drive`</font>. Rename it as <font color = 'green'>`Lastname_Firstname_hw2`</font>.\n",
        "\n",
        "2. Write your solutions in the cells  marked as <font color = 'green'>`# your code`</font>.\n",
        "\n",
        "3. **Do not delete your outputs**. They are essential for the grading. Make sure that cells containing your solutions are executed, and the results are displayed on the notebook.\n",
        "\n",
        "4. When you're done please submit your solutions as an <font color=\"red\">`.ipynb`</font> file. To do so:\n",
        "\n",
        "\n",
        "  a. Click on <font color=\"red\">`File`</font>  at the top left on the Colab screen, then click on <font color = 'red'>`Download .ipynb`</font>.\n",
        "\n",
        "  b. Then submit the downloaded <font color=\"red\">`.ipynb`</font> version of your work on SUCourse.\n",
        "\n",
        "\n",
        "For any question, please use the discussion page on Sucourse.\n",
        "\n",
        "---\n",
        "\n",
        "**Important Note: In this homework, you are not allowed to use Pandas.**"
      ]
    },
    {
      "cell_type": "code",
      "metadata": {
        "id": "pNfT6vfYaJdL",
        "colab": {
          "base_uri": "https://localhost:8080/"
        },
        "outputId": "adbc9f98-8949-43bd-8bdc-bb7b13db18dc"
      },
      "source": [
        "from google.colab import drive\n",
        "drive.mount('./drive', force_remount=True)\n",
        "\n",
        "path_prefix = './drive/My Drive'"
      ],
      "execution_count": 1,
      "outputs": [
        {
          "output_type": "stream",
          "name": "stdout",
          "text": [
            "Mounted at ./drive\n"
          ]
        }
      ]
    },
    {
      "cell_type": "code",
      "metadata": {
        "id": "YBCzbwaj4d5O"
      },
      "source": [
        "import numpy as np\n",
        "import matplotlib.pyplot as plt\n",
        "from os.path import join\n",
        "import re\n",
        "\n",
        "%matplotlib inline"
      ],
      "execution_count": 2,
      "outputs": []
    },
    {
      "cell_type": "markdown",
      "metadata": {
        "id": "CDbkvQOd-JUt"
      },
      "source": [
        "## Social Distancing in Venezuela\n",
        "\n",
        "Governments across the globe imposed various NPIs (nonpharmaceutical interventions) to limit the mobility of masses and foster social distancing to prevent more infections. In Venezuela, a survey is conducted to collect public opionion on the impacts of COVID-19, which also captures the tendency to adhere to social distancing rules in public. You may read more about the data in detail from the link below.\n",
        "\n",
        "https://data.humdata.org/dataset/open_one_time_covid_impact\n",
        "\n",
        "In this homework, you are going to be working on a small sample from the original data, `venezuela_covid_impact_soc_dist.csv`, that focuses on social distancing, in which the following fields are stored:\n",
        "\n",
        "```\n",
        "'submission_id', 'submission_date', 'gender', 'age', 'education', 'how_likely_to_social_distance_when_out_in_public'\n",
        "```\n",
        "\n",
        "The first five rows of the file can be viewed below:\n",
        "\n",
        "```\n",
        "submission_id,submission_date,gender,age,education,how_likely_to_social_distance_when_out_in_public\n",
        "4621122344845312,2020   12 26  ,Male,26 to 35 years old,University or college degree completed,Very likely\n",
        "5073314990260224,<li>2020 12 10</li>,Male,16 to 25 years old,Some secondary school / high school,Neither likely nor unlikely\n",
        "5703966068572160,  2020----11++++ 19,Female,36 to 45 years old,Some university or college,Very likely\n",
        "5782300156755968,2020   12 07  ,Male,16 to 25 years old,Secondary/high school,Unlikely\n",
        "\n",
        "```\n",
        "\n",
        "** **Do not forget to add the shared file 'venezuela_covid_impact_soc_dist.csv' to your own drive.** **"
      ]
    },
    {
      "cell_type": "markdown",
      "metadata": {
        "id": "6hlYX4icW1U9"
      },
      "source": [
        "### Q1 - Read the Dataset\n",
        "\n",
        "In the provided dataset, entries are separated by commas. Read and store the file as a 2d numpy array in which columns capture the corresponding fields.\n",
        "\n",
        "- Read the given file into a numpy array.\n",
        "- At the end, print the number of rows and columns.\n",
        "\n",
        "```\n",
        "Number of rows: [...], columns: [...]\n",
        "```\n",
        "\n",
        "*Hint: Do not forget to skip the first line (the header).*"
      ]
    },
    {
      "cell_type": "code",
      "metadata": {
        "id": "fApp4vZf7rXv",
        "colab": {
          "base_uri": "https://localhost:8080/",
          "height": 35
        },
        "outputId": "b17c057a-33a4-47ae-9302-34097d6eb566"
      },
      "source": [
        "# your code\n",
        "from os.path import join\n",
        "\n",
        "path_prefix = \"./drive/My Drive\"\n",
        "fname = \"venezuela_covid_impact_soc_dist.csv\"\n",
        "\n",
        "join(path_prefix, fname)"
      ],
      "execution_count": 3,
      "outputs": [
        {
          "output_type": "execute_result",
          "data": {
            "application/vnd.google.colaboratory.intrinsic+json": {
              "type": "string"
            },
            "text/plain": [
              "'./drive/My Drive/venezuela_covid_impact_soc_dist.csv'"
            ]
          },
          "metadata": {},
          "execution_count": 3
        }
      ]
    },
    {
      "cell_type": "code",
      "metadata": {
        "colab": {
          "base_uri": "https://localhost:8080/"
        },
        "id": "M75Q8baqHngJ",
        "outputId": "651937da-82f7-4242-f86e-eb17b9f0aad7"
      },
      "source": [
        "with open(join(path_prefix, fname), \"r\") as f:\n",
        "  numpy_array = np.genfromtxt(f, delimiter=\",\", skip_header=1, dtype='U')\n",
        "  print(numpy_array.shape)  "
      ],
      "execution_count": 4,
      "outputs": [
        {
          "output_type": "stream",
          "name": "stdout",
          "text": [
            "(7341, 6)\n"
          ]
        }
      ]
    },
    {
      "cell_type": "markdown",
      "metadata": {
        "id": "5hZw2gobH0Fy"
      },
      "source": [
        "### Q2 - Cleaning Date Values\n",
        "\n",
        "During the data collection process, most of the date values were registered with *non-numeric* rubbish characters between the date elements due to a glitch in the system. Some of the examples can be seen below where %Y represents years (e.g. 2021, 2020), %m month as a zero-padded decimal number (e.g. 07, 08) and %d day of the month as a zero-padded decimal number (e.g. 01, 03).\n",
        "\n",
        "```\n",
        "'%Y   %m %d', \n",
        "'  %Y----%m++++ %d', \n",
        "'<li>%Y %m %d</li>', \n",
        "'%Y /||\\ %m %d  ', \n",
        "'<<%Y  %m >> %d'\n",
        "```\n",
        "\n",
        "- You may assume that the order of date elements is always the same in the raw data: %Y %m %d.\n",
        "- Extract the actual date entries from the data. We expect you to use regular expressions for this part.\n",
        "- Rearrange the date values as **'%d-%m-%Y'** in the data (separate them with hypen -).\n",
        "- At the end, print the first three instances of the resulting dates as a list.\n",
        "\n",
        "```\n",
        "['26-12-2020' '10-12-2020' '19-11-2020']\n",
        "```"
      ]
    },
    {
      "cell_type": "code",
      "metadata": {
        "id": "qRJ3r8-vcp3S",
        "colab": {
          "base_uri": "https://localhost:8080/"
        },
        "outputId": "d6414993-42a5-482b-cbf6-2e2e69f82296"
      },
      "source": [
        "# your code\n",
        "num_rows,num_cols=numpy_array.shape\n",
        "firstthree_dates=[]\n",
        "i=0\n",
        "while(i!=num_rows):\n",
        "  numeric_filter = filter(str.isdigit, numpy_array[i][1])\n",
        "  numeric_string = \"\".join(numeric_filter)\n",
        "  numpy_array[i][1]=numeric_string\n",
        "  numpy_array[i][1]=numpy_array[i][1][6:]+\"-\"+numpy_array[i][1][4:6]+\"-\"+numpy_array[i][1][:4]\n",
        "  i=i+1\n",
        "\n",
        "for j in range(3):\n",
        "  firstthree_dates.append(numpy_array[j][1])\n",
        "\n",
        "print(firstthree_dates)"
      ],
      "execution_count": 5,
      "outputs": [
        {
          "output_type": "stream",
          "name": "stdout",
          "text": [
            "['26-12-2020', '10-12-2020', '19-11-2020']\n"
          ]
        }
      ]
    },
    {
      "cell_type": "markdown",
      "metadata": {
        "id": "WkVsm6IHq1Z_"
      },
      "source": [
        "### Q3 - Drop Duplicate Rows\n",
        "\n",
        "As mentioned above, some problems took place during the data collection process and we are suspecting a case of data duplication. In fact, it turns out that there are rows with duplicates in the data. An excerpt from the file can be seen below:\n",
        "\n",
        "```\n",
        "5907953602527232,01-08-2021,Not Available,Not Available,Not Available,Not available,Not Available,Agree,Very likely\n",
        "5907953602527232,01-08-2021,Not Available,Not Available,Not Available,Not available,Not Available,Agree,Very likely\n",
        "5520514392260608,11-16-2020,Female,36 to 45 years old,\"I can afford food, but nothing else\",Secondary school/ high school completed,I am unemployed,Agree,Very likely\n",
        "```\n",
        "\n",
        "- Remove the duplicate rows from the array so that only unique entries are left.\n",
        "- At the end, print the total number of rows in the data after the duplicate removal.\n",
        "\n",
        "```\n",
        "Number of rows after duplicate removal: [...]\n",
        "```"
      ]
    },
    {
      "cell_type": "code",
      "metadata": {
        "id": "Il2yjtDyq7Rv",
        "colab": {
          "base_uri": "https://localhost:8080/"
        },
        "outputId": "b9c28f72-1b8a-4e0a-8bab-66a561f3554d"
      },
      "source": [
        "# your code\n",
        "uniquenumpy_array=np.unique(numpy_array,axis=0)\n",
        "rownum,colnum=uniquenumpy_array.shape\n",
        "print(\"Number of rows after duplicate removal:\",rownum)"
      ],
      "execution_count": 6,
      "outputs": [
        {
          "output_type": "stream",
          "name": "stdout",
          "text": [
            "Number of rows after duplicate removal: 7042\n"
          ]
        }
      ]
    },
    {
      "cell_type": "markdown",
      "metadata": {
        "id": "Cv9dk7AefEyd"
      },
      "source": [
        "### Q4 - Number of Entries per Month\n",
        "\n",
        "The users took the survey between November 2020 and January 2021. Display the total number of submissions per each month.\n",
        "\n",
        "- Calculate the number of entries registered in each month.\n",
        "- Display the result as a bar chart in which the bars are sorted wrt count values.\n",
        " \n",
        "![](https://i.ibb.co/5Fsv0Kb/m.png)\n",
        "\n",
        " *Hint: The dates are stored in a pre-defined format (day-month-year) after Q2.*"
      ]
    },
    {
      "cell_type": "code",
      "metadata": {
        "id": "yDeZWy0vfJBl",
        "colab": {
          "base_uri": "https://localhost:8080/",
          "height": 312
        },
        "outputId": "0ac46c64-a57a-4ca8-b05f-bca59e86e370"
      },
      "source": [
        "# your code\n",
        "november_counter=0\n",
        "december_counter=0\n",
        "january_counter=0\n",
        "\n",
        "i=0\n",
        "while(i!=rownum):\n",
        "  if(uniquenumpy_array[i][1][3:5]==\"11\"):\n",
        "    november_counter=november_counter+1\n",
        "  elif(uniquenumpy_array[i][1][3:5]==\"12\"):\n",
        "    december_counter=december_counter+1\n",
        "  elif(uniquenumpy_array[i][1][3:5]==\"01\"):\n",
        "    january_counter=january_counter+1\n",
        "  i=i+1\n",
        "\n",
        "\n",
        "november=\"2020-11\"\n",
        "december=\"2020-12\"\n",
        "january=\"2021-01\"\n",
        "\n",
        "months=[]\n",
        "months.append(january)\n",
        "months.append(december)\n",
        "months.append(november)\n",
        "\n",
        "data=[]\n",
        "data.append(january_counter)\n",
        "data.append(november_counter) \n",
        "data.append(december_counter)\n",
        "data.sort()\n",
        "\n",
        "plt.barh(months,data)\n",
        "\n",
        "for index, value in enumerate(data):\n",
        "    plt.text(value, index, str(value))\n",
        "plt.title('Number of Entries per Month')\n",
        "plt.xlabel('# of Records')\n",
        "plt.show()\n",
        "print(rownum)"
      ],
      "execution_count": 7,
      "outputs": [
        {
          "output_type": "display_data",
          "data": {
            "image/png": "[encoded data removed]",
            "text/plain": [
              "<Figure size 432x288 with 1 Axes>"
            ]
          },
          "metadata": {
            "needs_background": "light"
          }
        },
        {
          "output_type": "stream",
          "name": "stdout",
          "text": [
            "7042\n"
          ]
        }
      ]
    },
    {
      "cell_type": "markdown",
      "metadata": {
        "id": "3vUUznH1m2hK"
      },
      "source": [
        "### Q5 - Transforming the Employment Status Column\n",
        "\n",
        "In the survey, the users were asked to provide their education level. Since it was an optional question, some left it empty or prefered not to answer. For the first case, such responses were recored as `Not available`, while the latter as `Prefer not to answer`.\n",
        "\n",
        "In addition, some test takers provided the same answer with slightly different words. For instance, to indicate high school some wrote 'Secondary school/ high school completed', while others simply put 'High school'. To eliminate the inconsistency, we need to replace such entries with a coherent choice. In the dictionary below, keys correspond to the entries that need to be replaced by their associated value.\n",
        "\n",
        "- Replace the given education categories with the provided list.\n",
        "- Remove the rows with `Not available` or `Prefer not to answer` responses.\n",
        "- Finally, print the resulting number of rows and unique education categories .\n",
        "\n",
        "```\n",
        "Number of rows: [...]\n",
        "['High school' 'Post graduate' 'Primary school' 'Technical school' 'University']\n",
        "```"
      ]
    },
    {
      "cell_type": "code",
      "metadata": {
        "id": "XeyXFjMym6j1",
        "colab": {
          "base_uri": "https://localhost:8080/"
        },
        "outputId": "ccb4066a-4e0d-46b3-f4de-ebf699caf326"
      },
      "source": [
        "adj_edu = {\n",
        "    'Secondary school/ high school completed': 'High school',\n",
        "    'Secondary/high school': 'High school',\n",
        "    'Some secondary school / high school': 'High school',\n",
        "    'University or college degree completed': 'University',\n",
        "    'Some university or college': 'University',\n",
        "    'College or university': 'University',\n",
        "    'Technical school diploma or degree completed': 'Technical school',\n",
        "    'Some technical education (e.g polytechnic school)': 'Technical school',\n",
        "    'Post-graduate education': 'Post graduate',\n",
        "    'Some primary education': 'Primary school',\n",
        "    'Primary school completed': 'Primary school'\n",
        "}\n",
        "\n",
        "# your code\n",
        "unique_education=[]\n",
        "k=0\n",
        "while(k!=rownum):\n",
        "  if((uniquenumpy_array[k][4]==\"Not available\") or (uniquenumpy_array[k][4]==\"Prefer not to answer\")):\n",
        "    uniquenumpy_array=np.delete(uniquenumpy_array,k,0)\n",
        "    k=k-1\n",
        "    rownum=rownum-1\n",
        "  elif(uniquenumpy_array[k][4] in adj_edu):\n",
        "    uniquenumpy_array[k][4]=adj_edu[uniquenumpy_array[k][4]] \n",
        "    word=uniquenumpy_array[k][4]\n",
        "    if(word not in unique_education):\n",
        "      unique_education.append(word)\n",
        "  k=k+1\n",
        "print(\"Number of rows\", rownum)\n",
        "print(unique_education)"
      ],
      "execution_count": 8,
      "outputs": [
        {
          "output_type": "stream",
          "name": "stdout",
          "text": [
            "Number of rows 6962\n",
            "['University', 'High school', 'Technical school', 'Post graduate', 'Primary school']\n"
          ]
        }
      ]
    },
    {
      "cell_type": "markdown",
      "metadata": {
        "id": "P2PXxdSEuF9e"
      },
      "source": [
        "### Q6 - Social Distancing & Education\n",
        "\n",
        "Lastly, we want to understand the relationship between education and adherence to social distancing. In the `how_likely_to_social_distance_when_out_in_public` column, there are five different replies, ranged between `'Very unlikely'` to `'Very likely'`. Here, we want to calculate the likelihood of getting `'Very likely'` replies conditioned on education status. In particular, you'll find the education category that maximizes this probability.\n",
        "\n",
        "\n",
        "\n",
        "$\\DeclareMathOperator*{\\argmax}{argmax} \\argmax\\limits_{\\small{edu} \\, \\in \\, \\text{Education Category}}\\;P(\\text{Social Distancing}=\\text{'Very likely'}|\\text{Education Category}=\\text{edu})$\n",
        "\n",
        "- For each education category, calculate the conditional probability above.\n",
        "- Get the one that returns the highest. \n",
        "- At the end, print the education category and its probability value.\n",
        "\n",
        "```\n",
        "Post graduate: [...]\n",
        "```"
      ]
    },
    {
      "cell_type": "code",
      "metadata": {
        "id": "s3fs58kXuLZM",
        "colab": {
          "base_uri": "https://localhost:8080/"
        },
        "outputId": "ab47fca9-b5eb-4e50-bc6c-a7dcfdaaa999"
      },
      "source": [
        "# your solution\n",
        "m=0\n",
        "unicount=0\n",
        "highcount=0\n",
        "techcount=0\n",
        "postcount=0\n",
        "primarycount=0\n",
        "\n",
        "while(m!=rownum):\n",
        "  if(uniquenumpy_array[m][4]==\"University\"):\n",
        "    unicount=unicount+1\n",
        "  elif(uniquenumpy_array[m][4]==\"High school\"):\n",
        "    highcount=highcount+1\n",
        "  elif(uniquenumpy_array[m][4]==\"Technical school\"):\n",
        "    techcount=techcount+1\n",
        "  elif(uniquenumpy_array[m][4]==\"Post graduate\"):\n",
        "    postcount=postcount+1\n",
        "  elif(uniquenumpy_array[m][4]==\"Primary school\"):\n",
        "    primarycount=primarycount+1\n",
        "  m=m+1\n",
        "\n",
        "n=0\n",
        "unilike=0\n",
        "highlike=0\n",
        "techlike=0\n",
        "postlike=0\n",
        "primarylike=0\n",
        "while(n!=rownum):\n",
        "  if((uniquenumpy_array[n][4]==\"University\") and (uniquenumpy_array[n][5]==\"Very likely\")):\n",
        "    unilike=unilike+1\n",
        "  elif((uniquenumpy_array[n][4]==\"High school\") and (uniquenumpy_array[n][5]==\"Very likely\")):\n",
        "    highlike=highlike+1\n",
        "  elif((uniquenumpy_array[n][4]==\"Technical school\") and (uniquenumpy_array[n][5]==\"Very likely\")):\n",
        "    techlike=techlike+1\n",
        "  elif((uniquenumpy_array[n][4]==\"Post graduate\") and (uniquenumpy_array[n][5]==\"Very likely\")):\n",
        "    postlike=postlike+1\n",
        "  elif((uniquenumpy_array[n][4]==\"Primary school\") and (uniquenumpy_array[n][5]==\"Very likely\")):\n",
        "    primarylike=primarylike+1\n",
        "  n=n+1\n",
        "\n",
        "def probcalc(row,prob):\n",
        "  return(prob/row)\n",
        "\n",
        "uni_result=probcalc(unicount,unilike)\n",
        "high_result=probcalc(highcount,highlike)\n",
        "tech_result=probcalc(techcount,techlike)\n",
        "post_result=probcalc(postcount,postlike)\n",
        "primary_result=probcalc(primarycount,primarylike)\n",
        "\n",
        "all_res=[]\n",
        "all_res.append(uni_result)\n",
        "all_res.append(high_result)\n",
        "all_res.append(tech_result)\n",
        "all_res.append(post_result)\n",
        "all_res.append(primary_result)\n",
        "\n",
        "max_val=max(all_res)\n",
        "max_idx=all_res.index(max_val)\n",
        "\n",
        "if(max_idx==0):\n",
        "  print(\"University:\",uni_result)\n",
        "elif(max_idx==1):\n",
        "  print(\"High school:\",high_result)\n",
        "elif(max_idx==2):\n",
        "  print(\"Technical school:\",tech_result)\n",
        "elif(max_idx==3):\n",
        "  print(\"Post graduate:\",post_result)\n",
        "elif(max_idx==4):\n",
        "  print(\"Primary school:\",primary_result)"
      ],
      "execution_count": 9,
      "outputs": [
        {
          "output_type": "stream",
          "name": "stdout",
          "text": [
            "Post graduate: 0.5345268542199488\n"
          ]
        }
      ]
    }
  ]
}